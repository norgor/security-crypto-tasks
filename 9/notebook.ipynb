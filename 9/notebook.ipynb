{
 "cells": [
  {
   "cell_type": "markdown",
   "metadata": {},
   "source": [
    "# Oppgave 1"
   ]
  },
  {
   "cell_type": "code",
   "execution_count": 195,
   "metadata": {},
   "outputs": [],
   "source": [
    "from typing import Callable\n",
    "\n",
    "hmac_key = 0b1001\n",
    "hmac_ipad = 0b0011\n",
    "hmac_opad = 0b0101\n",
    "\n",
    "def ms_hash(x: int) -> int:\n",
    "    return ((x*x & 0xFF) & 0b00111100) >> 2\n",
    "\n",
    "def ms_hmac(k: int, x: int):\n",
    "    if k > 0xFF:\n",
    "        k = ms_hash(k)\n",
    "    return ms_hash(\n",
    "        (k ^ hmac_opad) << 4 |\n",
    "        ms_hash(\n",
    "            (k ^ hmac_ipad) << x.bit_length() |\n",
    "            x\n",
    "        )\n",
    "    )"
   ]
  },
  {
   "cell_type": "markdown",
   "metadata": {},
   "source": [
    "## a)"
   ]
  },
  {
   "cell_type": "code",
   "execution_count": 196,
   "metadata": {},
   "outputs": [
    {
     "data": {
      "text/plain": [
       "'0b0100'"
      ]
     },
     "execution_count": 196,
     "metadata": {},
     "output_type": "execute_result"
    }
   ],
   "source": [
    "format(ms_hmac(hmac_key, 0b0110), \"#06b\")"
   ]
  },
  {
   "cell_type": "markdown",
   "metadata": {},
   "source": [
    "## b)"
   ]
  },
  {
   "cell_type": "code",
   "execution_count": 197,
   "metadata": {},
   "outputs": [
    {
     "data": {
      "text/plain": [
       "'0b0100'"
      ]
     },
     "execution_count": 197,
     "metadata": {},
     "output_type": "execute_result"
    }
   ],
   "source": [
    "format(ms_hmac(hmac_key, 0b0111), \"#06b\")"
   ]
  },
  {
   "cell_type": "markdown",
   "metadata": {},
   "source": [
    "HMAC av denne meldingen stemmer overens med algoritmen som brukes, dermed er det mulig at meldingen er autentisk. Allikevel er det viktig å ta i betrakting at vi bruker en algoritme med blokkstørrelse lik 4 bits, noe som gjør kollisjoner meget sannsynlige."
   ]
  },
  {
   "cell_type": "markdown",
   "metadata": {},
   "source": [
    "# Oppgave 2"
   ]
  },
  {
   "cell_type": "code",
   "execution_count": 198,
   "metadata": {},
   "outputs": [
    {
     "name": "stdout",
     "output_type": "stream",
     "text": [
      "CBC-MAC(x ) = 0b1111\n",
      "CBC-MAC(x') = 0b0010\n"
     ]
    }
   ],
   "source": [
    "def ceasar(x: int) -> int:\n",
    "    return (x + 3) & 0xF\n",
    "\n",
    "def ceasar_cbc_mac(x: int):\n",
    "    p = ceasar(x & 0xF)\n",
    "    x >>= 4\n",
    "    while x > 0:\n",
    "        p = ceasar((x & 0xF) ^ p)\n",
    "        x >>= 4\n",
    "    return p\n",
    "\n",
    "mac_x1 = format(ceasar_cbc_mac(0b1101_1111_1010_0001), \"#06b\")\n",
    "print(f\"CBC-MAC(x ) = {mac_x1}\")\n",
    "mac_x2 = format(ceasar_cbc_mac(0b0010_1100_0001_1111), \"#06b\")\n",
    "print(f\"CBC-MAC(x') = {mac_x2}\")"
   ]
  },
  {
   "cell_type": "markdown",
   "metadata": {},
   "source": [
    "# Oppgave 3"
   ]
  },
  {
   "cell_type": "code",
   "execution_count": 199,
   "metadata": {},
   "outputs": [
    {
     "name": "stdout",
     "output_type": "stream",
     "text": [
      "LFSR #1:\n",
      "    Nøkkel #1 => 100011000110001...\n",
      "    Nøkkel #2 => 001100011000110...\n",
      "    Nøkkel #3 => 111101111011110...\n",
      "LFSR #2:\n",
      "    Nøkkel #1 => 100011110101100...\n",
      "    Nøkkel #2 => 001111010110010...\n",
      "    Nøkkel #3 => 111101011001000...\n"
     ]
    }
   ],
   "source": [
    "from collections import deque\n",
    "from itertools import islice\n",
    "lfsr_keys = ((1,0,0,0), (0,0,1,1), (1,1,1,1))\n",
    "lfsr_max_period = 2**4 - 1\n",
    "\n",
    "def lfsr1(z: deque[int]) -> int:\n",
    "    return sum(z) & 1\n",
    "\n",
    "def lfsr2(z: deque[int]) -> int:\n",
    "    return (z[0] + z[-1]) & 1\n",
    "\n",
    "def lfsr_generator(key: tuple[int, ...], lfsr_f: Callable[[deque[int]], int]):\n",
    "    q = deque((key))\n",
    "    while True:\n",
    "        q.append(lfsr_f(q))\n",
    "        yield q.popleft()\n",
    "        \n",
    "for lfsr_n, lfsr_f in enumerate((lfsr1, lfsr2)):\n",
    "    print(f\"LFSR #{lfsr_n+1}:\")\n",
    "    for i, key in enumerate(lfsr_keys):\n",
    "        nums = \"\".join(map(lambda x: str(x), islice(lfsr_generator(key, lfsr_f), lfsr_max_period)))\n",
    "        print(f\"    Nøkkel #{i+1} => {nums}...\")"
   ]
  },
  {
   "cell_type": "markdown",
   "metadata": {},
   "source": [
    "## a)\n",
    "Fra kode og resultatene ovenfor (LFSR #1) ser vi at periodene for alle nøklene har en periode på 5."
   ]
  },
  {
   "cell_type": "markdown",
   "metadata": {},
   "source": [
    "## b)\n",
    "Fra kode og resultatene ovenfor (LFSR #2) ser vi at periodene for alle nøklene har maks-perioden lik 15."
   ]
  },
  {
   "cell_type": "markdown",
   "metadata": {},
   "source": [
    "# Oppgave 4\n",
    "## a)"
   ]
  },
  {
   "cell_type": "code",
   "execution_count": 200,
   "metadata": {},
   "outputs": [],
   "source": [
    "rsa_p = 32771\n",
    "rsa_q = 65519\n",
    "rsa_e = 3\n",
    "rsa_n = rsa_p*rsa_q\n",
    "\n",
    "rsa_pub = (rsa_n, rsa_e)\n",
    "\n",
    "# Source: https://www.geeksforgeeks.org/euclidean-algorithms-basic-and-extended/\n",
    "def mult_inverse(a: int, b: int) -> int:\n",
    "    if a == 0:\n",
    "        return b, 0, 1\n",
    "    \n",
    "    gcd, x1, y1 = gcd_extended(b % a, a)\n",
    "    x = y1 - (b//a) * x1\n",
    "    y = x1\n",
    "    if x < 0:\n",
    "        x += b\n",
    "    return x\n",
    "\n",
    "def exponentiate(a: int, e: int, m: int) -> int:\n",
    "    if e == 0:\n",
    "        return 1\n",
    "    x = exponentiate((a*a) % m, e // 2, m) % m\n",
    "    if e & 1 == 1:\n",
    "        x *= a\n",
    "    return x % m\n"
   ]
  },
  {
   "cell_type": "markdown",
   "metadata": {},
   "source": [
    "## b)\n",
    "Jeg har valgt to 16-bits primtall $p=32771$ og $q=65519$, slik at $(p-1)(q-1)$ ikke hadde $3$ som en faktor. Dette betyr at $e$ er relativt primt til $(p-1)(q-1)$.\n",
    "\n",
    "## c)"
   ]
  },
  {
   "cell_type": "code",
   "execution_count": 201,
   "metadata": {},
   "outputs": [
    {
     "name": "stdout",
     "output_type": "stream",
     "text": [
      "(2147123149, 3)\n"
     ]
    }
   ],
   "source": [
    "print(rsa_pub)"
   ]
  },
  {
   "cell_type": "markdown",
   "metadata": {},
   "source": [
    "## d)"
   ]
  },
  {
   "cell_type": "code",
   "execution_count": 202,
   "metadata": {},
   "outputs": [
    {
     "name": "stdout",
     "output_type": "stream",
     "text": [
      "(32771, 65519, 1431349907)\n"
     ]
    }
   ],
   "source": [
    "rsa_d = mult_inverse(rsa_e, (rsa_p-1)*(rsa_q-1))\n",
    "rsa_prv = (rsa_p, rsa_q, rsa_d)\n",
    "print(rsa_prv)"
   ]
  },
  {
   "cell_type": "markdown",
   "metadata": {},
   "source": [
    "## e)"
   ]
  },
  {
   "cell_type": "code",
   "execution_count": 203,
   "metadata": {},
   "outputs": [
    {
     "name": "stdout",
     "output_type": "stream",
     "text": [
      "Kryptert: 486085101\n",
      "Dekryptert: 12345\n"
     ]
    }
   ],
   "source": [
    "rsa_msg = 12345\n",
    "rsa_encrypted = exponentiate(rsa_msg, rsa_e, rsa_n)\n",
    "print(f\"Kryptert: {rsa_encrypted}\")\n",
    "rsa_decrypted = exponentiate(rsa_encrypted, rsa_d, rsa_n)\n",
    "print(f\"Dekryptert: {rsa_decrypted}\")"
   ]
  },
  {
   "cell_type": "markdown",
   "metadata": {},
   "source": [
    "# Oppgave 5"
   ]
  },
  {
   "cell_type": "code",
   "execution_count": 204,
   "metadata": {},
   "outputs": [],
   "source": [
    "from math import gcd\n",
    "\n",
    "def pollard(n, b):\n",
    "    a = 2\n",
    "    for i in range(2, b):\n",
    "        a = exponentiate(a, i, n)\n",
    "    d = gcd(a-1, n)\n",
    "    if 1 < d < n:\n",
    "        return d\n",
    "    return None"
   ]
  },
  {
   "cell_type": "markdown",
   "metadata": {},
   "source": [
    "## a)"
   ]
  },
  {
   "cell_type": "code",
   "execution_count": 205,
   "metadata": {},
   "outputs": [
    {
     "name": "stdout",
     "output_type": "stream",
     "text": [
      "Primtallsfaktor i 1829: None\n"
     ]
    }
   ],
   "source": [
    "pollard_f = pollard(1829, 5)\n",
    "print(f\"Primtallsfaktor i 1829: {pollard_f}\")"
   ]
  },
  {
   "cell_type": "markdown",
   "metadata": {},
   "source": [
    "# Oppgave 6\n",
    "## a)\n",
    "$$e_k(x)=x^b \\mod{n}$$\n",
    "$$e_k(x_1)e_k(x_2)=x_1^b x_2^b \\mod{n} = (x_1 x_2)^b \\mod {n}$$\n",
    "$$Potensregel: x_1^b x_2^b = (x_1 x_2)^b$$\n",
    "$$\\implies e_k(x_1)e_k(x_2) \\mod{n} = e_k(x_1 x_2) \\mod{n}$$\n",
    "\n",
    "## b)\n",
    "Eva kjenner til n fra offentlig nøkkel.\n",
    "$$ y' = y*r^e $$\n",
    "$$ x' = d_k(y') = d_k(y \\cdot r^e) = (y \\cdot r^e)^d = (e_k(x) \\cdot r^e)^d = (x^e \\cdot r^e)^d = x^{ed} \\cdot r^{ed} \\mod n = x \\cdot r \\mod n$$\n",
    "Eva kan nå bruke $r^{-1}$ for å finne x\n",
    "$$ x \\cdot r \\cdot r^{-1} \\mod n = x \\mod n$$\n",
    "\n",
    "$$ $$"
   ]
  }
 ],
 "metadata": {
  "kernelspec": {
   "display_name": "Python 3.10.8 ('.venv': venv)",
   "language": "python",
   "name": "python3"
  },
  "language_info": {
   "codemirror_mode": {
    "name": "ipython",
    "version": 3
   },
   "file_extension": ".py",
   "mimetype": "text/x-python",
   "name": "python",
   "nbconvert_exporter": "python",
   "pygments_lexer": "ipython3",
   "version": "3.10.8"
  },
  "orig_nbformat": 4,
  "vscode": {
   "interpreter": {
    "hash": "322b78c08b21abc51d8ac01dc2d1bf0f0424b81eb8bdac0ee6b860c4f553f56f"
   }
  }
 },
 "nbformat": 4,
 "nbformat_minor": 2
}
