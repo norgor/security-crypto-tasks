{
 "cells": [
  {
   "cell_type": "markdown",
   "metadata": {},
   "source": [
    "# Oppgave 1\n",
    "## a)\n"
   ]
  },
  {
   "cell_type": "markdown",
   "metadata": {},
   "source": [
    "# Oppgave 2"
   ]
  },
  {
   "cell_type": "code",
   "execution_count": 154,
   "metadata": {},
   "outputs": [
    {
     "name": "stdout",
     "output_type": "stream",
     "text": [
      "oqsuwy\n",
      "llærzåælomfi h,m\n",
      "cbc mode of operation\n"
     ]
    }
   ],
   "source": [
    "alphabet = tuple(\" \" + \"\".join(chr(c) for c in range(ord('a'), ord('z')+1)) + \"æøå,.\")\n",
    "from_num = dict((i, alphabet[i]) for i in range(len(alphabet)))\n",
    "to_num = dict((alphabet[i], i) for i in range(len(alphabet)))\n",
    "\n",
    "\n",
    "def caesar_cbc_encrypt(iv, msg):\n",
    "    nmsg = (to_num.get(c) for c in msg)\n",
    "    ciphertext = []\n",
    "    c = iv\n",
    "    for n in nmsg:\n",
    "        c = ((n ^ c) + 3) % len(alphabet)\n",
    "        ciphertext.append(c)\n",
    "        \n",
    "    return \"\".join(from_num.get(n) for n in ciphertext)\n",
    "\n",
    "def caesar_cbc_decrypt(iv, msg):\n",
    "    nmsg = (to_num.get(c) for c in msg)\n",
    "    plaintext = []\n",
    "    v = iv\n",
    "    for n in nmsg:\n",
    "        c = ((n - 3) ^ v) % len(alphabet)\n",
    "        v = n\n",
    "        plaintext.append(c)\n",
    "        \n",
    "    return \"\".join(from_num.get(n) for n in plaintext)\n",
    "\n",
    "print(caesar_cbc_encrypt(13, \"aaaaaa\"))\n",
    "print(caesar_cbc_encrypt(13, \"dette er en test\"))\n",
    "print(caesar_cbc_decrypt(13, \"qvxæyy hkgdgk,,oqhdnc\"))"
   ]
  },
  {
   "cell_type": "markdown",
   "metadata": {},
   "source": [
    "# Oppgave 3"
   ]
  },
  {
   "cell_type": "code",
   "execution_count": 155,
   "metadata": {},
   "outputs": [],
   "source": [
    "from itertools import chain\n",
    "\n",
    "alphabet = tuple(\"\".join(chr(c) for c in range(ord('a'), ord('z')+1)) + \"æøå\")\n",
    "from_num = dict((i, alphabet[i]) for i in range(len(alphabet)))\n",
    "to_num = dict((alphabet[i], i) for i in range(len(alphabet)))\n",
    "\n",
    "def autokey_encrypt(k, msg):\n",
    "    nmsg = map(to_num.get, msg)\n",
    "    key = chain((k, ), map(to_num.get, msg))\n",
    "    e = map(lambda x: (x[0] + x[1]) % len(alphabet), zip(nmsg, key))\n",
    "    return \"\".join(map(lambda x: from_num.get(x), e))\n",
    "    \n",
    "\n",
    "def autokey_decrypt(k, msg):\n",
    "    nmsg = (to_num.get(c) for c in msg)\n",
    "    kp = [k]\n",
    "    for i, v in enumerate(nmsg):\n",
    "        kp.append((v - kp[i]) % len(alphabet))\n",
    "    return \"\".join(map(lambda x: from_num.get(x), kp[1:]))"
   ]
  },
  {
   "cell_type": "markdown",
   "metadata": {},
   "source": [
    "## a)"
   ]
  },
  {
   "cell_type": "code",
   "execution_count": 156,
   "metadata": {},
   "outputs": [
    {
     "name": "stdout",
     "output_type": "stream",
     "text": [
      "xurgdg\n"
     ]
    }
   ],
   "source": [
    "print(autokey_encrypt(17, \"goddag\"))"
   ]
  },
  {
   "cell_type": "markdown",
   "metadata": {},
   "source": [
    "## b)"
   ]
  },
  {
   "cell_type": "code",
   "execution_count": 157,
   "metadata": {},
   "outputs": [
    {
     "name": "stdout",
     "output_type": "stream",
     "text": [
      "steinsprang\n"
     ]
    }
   ],
   "source": [
    "encrypted = \"\".join(from_num.get(n) for n in (23,8,23,12,21,2,4,3,17,13,19))\n",
    "print(autokey_decrypt(5, encrypted))"
   ]
  },
  {
   "cell_type": "markdown",
   "metadata": {},
   "source": [
    "# Oppgave 4\n",
    "Samarbeidet med Tommy René Sætre"
   ]
  },
  {
   "cell_type": "code",
   "execution_count": 338,
   "metadata": {},
   "outputs": [
    {
     "name": "stdout",
     "output_type": "stream",
     "text": [
      "Encrypting [187, 170, 187, 187]\n",
      "Encrypted: [214, 175, 80, 15, 100, 195, 102, 76]\n",
      "Decrypting [214, 175, 80, 15, 100, 195, 102, 76]\n",
      "Decrypted: [187, 170, 187, 187]\n",
      "Are new and old plaintexts equal? Yes\n"
     ]
    }
   ],
   "source": [
    "import numpy as np\n",
    "\n",
    "class AES:\n",
    "    ROUNDS = 2\n",
    "    ROWS = 2\n",
    "    COLS = 2\n",
    "    S_BOX = (\n",
    "        0x63, 0x7c, 0x77, 0x7b, 0xf2, 0x6b, 0x6f, 0xc5, 0x30, 0x01, 0x67, 0x2b, 0xfe, 0xd7, 0xab, 0x76,\n",
    "        0xca, 0x82, 0xc9, 0x7d, 0xfa, 0x59, 0x47, 0xf0, 0xad, 0xd4, 0xa2, 0xaf, 0x9c, 0xa4, 0x72, 0xc0,\n",
    "        0xb7, 0xfd, 0x93, 0x26, 0x36, 0x3f, 0xf7, 0xcc, 0x34, 0xa5, 0xe5, 0xf1, 0x71, 0xd8, 0x31, 0x15,\n",
    "        0x04, 0xc7, 0x23, 0xc3, 0x18, 0x96, 0x05, 0x9a, 0x07, 0x12, 0x80, 0xe2, 0xeb, 0x27, 0xb2, 0x75,\n",
    "        0x09, 0x83, 0x2c, 0x1a, 0x1b, 0x6e, 0x5a, 0xa0, 0x52, 0x3b, 0xd6, 0xb3, 0x29, 0xe3, 0x2f, 0x84,\n",
    "        0x53, 0xd1, 0x00, 0xed, 0x20, 0xfc, 0xb1, 0x5b, 0x6a, 0xcb, 0xbe, 0x39, 0x4a, 0x4c, 0x58, 0xcf,\n",
    "        0xd0, 0xef, 0xaa, 0xfb, 0x43, 0x4d, 0x33, 0x85, 0x45, 0xf9, 0x02, 0x7f, 0x50, 0x3c, 0x9f, 0xa8,\n",
    "        0x51, 0xa3, 0x40, 0x8f, 0x92, 0x9d, 0x38, 0xf5, 0xbc, 0xb6, 0xda, 0x21, 0x10, 0xff, 0xf3, 0xd2,\n",
    "        0xcd, 0x0c, 0x13, 0xec, 0x5f, 0x97, 0x44, 0x17, 0xc4, 0xa7, 0x7e, 0x3d, 0x64, 0x5d, 0x19, 0x73,\n",
    "        0x60, 0x81, 0x4f, 0xdc, 0x22, 0x2a, 0x90, 0x88, 0x46, 0xee, 0xb8, 0x14, 0xde, 0x5e, 0x0b, 0xdb,\n",
    "        0xe0, 0x32, 0x3a, 0x0a, 0x49, 0x06, 0x24, 0x5c, 0xc2, 0xd3, 0xac, 0x62, 0x91, 0x95, 0xe4, 0x79,\n",
    "        0xe7, 0xc8, 0x37, 0x6d, 0x8d, 0xd5, 0x4e, 0xa9, 0x6c, 0x56, 0xf4, 0xea, 0x65, 0x7a, 0xae, 0x08,\n",
    "        0xba, 0x78, 0x25, 0x2e, 0x1c, 0xa6, 0xb4, 0xc6, 0xe8, 0xdd, 0x74, 0x1f, 0x4b, 0xbd, 0x8b, 0x8a,\n",
    "        0x70, 0x3e, 0xb5, 0x66, 0x48, 0x03, 0xf6, 0x0e, 0x61, 0x35, 0x57, 0xb9, 0x86, 0xc1, 0x1d, 0x9e,\n",
    "        0xe1, 0xf8, 0x98, 0x11, 0x69, 0xd9, 0x8e, 0x94, 0x9b, 0x1e, 0x87, 0xe9, 0xce, 0x55, 0x28, 0xdf,\n",
    "        0x8c, 0xa1, 0x89, 0x0d, 0xbf, 0xe6, 0x42, 0x68, 0x41, 0x99, 0x2d, 0x0f, 0xb0, 0x54, 0xbb, 0x16 \n",
    "    )\n",
    "    S_BOX_REV = (\n",
    "        0x52, 0x09, 0x6a, 0xd5, 0x30, 0x36, 0xa5, 0x38, 0xbf, 0x40, 0xa3, 0x9e, 0x81, 0xf3, 0xd7, 0xfb,\n",
    "        0x7c, 0xe3, 0x39, 0x82, 0x9b, 0x2f, 0xff, 0x87, 0x34, 0x8e, 0x43, 0x44, 0xc4, 0xde, 0xe9, 0xcb,\n",
    "        0x54, 0x7b, 0x94, 0x32, 0xa6, 0xc2, 0x23, 0x3d, 0xee, 0x4c, 0x95, 0x0b, 0x42, 0xfa, 0xc3, 0x4e,\n",
    "        0x08, 0x2e, 0xa1, 0x66, 0x28, 0xd9, 0x24, 0xb2, 0x76, 0x5b, 0xa2, 0x49, 0x6d, 0x8b, 0xd1, 0x25,\n",
    "        0x72, 0xf8, 0xf6, 0x64, 0x86, 0x68, 0x98, 0x16, 0xd4, 0xa4, 0x5c, 0xcc, 0x5d, 0x65, 0xb6, 0x92,\n",
    "        0x6c, 0x70, 0x48, 0x50, 0xfd, 0xed, 0xb9, 0xda, 0x5e, 0x15, 0x46, 0x57, 0xa7, 0x8d, 0x9d, 0x84,\n",
    "        0x90, 0xd8, 0xab, 0x00, 0x8c, 0xbc, 0xd3, 0x0a, 0xf7, 0xe4, 0x58, 0x05, 0xb8, 0xb3, 0x45, 0x06,\n",
    "        0xd0, 0x2c, 0x1e, 0x8f, 0xca, 0x3f, 0x0f, 0x02, 0xc1, 0xaf, 0xbd, 0x03, 0x01, 0x13, 0x8a, 0x6b,\n",
    "        0x3a, 0x91, 0x11, 0x41, 0x4f, 0x67, 0xdc, 0xea, 0x97, 0xf2, 0xcf, 0xce, 0xf0, 0xb4, 0xe6, 0x73,\n",
    "        0x96, 0xac, 0x74, 0x22, 0xe7, 0xad, 0x35, 0x85, 0xe2, 0xf9, 0x37, 0xe8, 0x1c, 0x75, 0xdf, 0x6e,\n",
    "        0x47, 0xf1, 0x1a, 0x71, 0x1d, 0x29, 0xc5, 0x89, 0x6f, 0xb7, 0x62, 0x0e, 0xaa, 0x18, 0xbe, 0x1b,\n",
    "        0xfc, 0x56, 0x3e, 0x4b, 0xc6, 0xd2, 0x79, 0x20, 0x9a, 0xdb, 0xc0, 0xfe, 0x78, 0xcd, 0x5a, 0xf4,\n",
    "        0x1f, 0xdd, 0xa8, 0x33, 0x88, 0x07, 0xc7, 0x31, 0xb1, 0x12, 0x10, 0x59, 0x27, 0x80, 0xec, 0x5f,\n",
    "        0x60, 0x51, 0x7f, 0xa9, 0x19, 0xb5, 0x4a, 0x0d, 0x2d, 0xe5, 0x7a, 0x9f, 0x93, 0xc9, 0x9c, 0xef,\n",
    "        0xa0, 0xe0, 0x3b, 0x4d, 0xae, 0x2a, 0xf5, 0xb0, 0xc8, 0xeb, 0xbb, 0x3c, 0x83, 0x53, 0x99, 0x61,\n",
    "        0x17, 0x2b, 0x04, 0x7e, 0xba, 0x77, 0xd6, 0x26, 0xe1, 0x69, 0x14, 0x63, 0x55, 0x21, 0x0c, 0x7d\n",
    "    )\n",
    "    R_CON = (0x8d, 0x01, 0x02, 0x04, 0x08, 0x10, 0x20, 0x40, 0x80, 0x1b, 0x36)\n",
    "    WORD_LENGTH = 1\n",
    "    BLOCK_LENGTH = ROWS*COLS*WORD_LENGTH\n",
    "\n",
    "    def __init__(self, key):\n",
    "        self.state = None\n",
    "        self.key = key\n",
    "        self.round_keys = self._expand_key()\n",
    "        self.s_box = None\n",
    "\n",
    "    def _sub_bytes(self):\n",
    "        for i in range(len(self.state)):\n",
    "            self._sub(self.state[i])\n",
    "    \n",
    "    def _sub(self, x):\n",
    "        for i, v in enumerate(x):\n",
    "            x[i] = self.s_box[v]\n",
    "\n",
    "    def _rot_left(self, x):\n",
    "        return np.roll(x, -1)\n",
    "\n",
    "    def _shift_rows(self, reverse):\n",
    "        m = -1\n",
    "        if reverse:\n",
    "            m = 1\n",
    "        for i in range(len(self.state)):\n",
    "            self.state[i] = np.roll(self.state[i], i*m)\n",
    "\n",
    "    def _mix_cols(self):\n",
    "        def f(a):\n",
    "            b = a << 1\n",
    "            c = 0x1B if (a & 0x80) else 0\n",
    "\n",
    "            return a ^ b ^ c\n",
    "\n",
    "        ns_0 = f(self.state[0,0]) ^ self.state[0,0] ^ f(self.state[1,0])\n",
    "        ns_1 = f(self.state[0,0]) ^ f(self.state[1,0]) ^ self.state[1,0]\n",
    "        ns_2 = f(self.state[0,1]) ^ self.state[0,1] ^ f(self.state[1,1])\n",
    "        ns_3 = f(self.state[0,1]) ^ f(self.state[1,1]) ^ self.state[1,1]\n",
    "\n",
    "        self.state[:, :] = [\n",
    "            [ns_0, ns_2],\n",
    "            [ns_1, ns_3]\n",
    "        ]\n",
    "\n",
    "    def _add_round_key(self, round):\n",
    "        self.state.flat = self.state.flat ^ self.round_keys[round]\n",
    "    \n",
    "    def _expand_key(self):\n",
    "        w = np.zeros((4*self.ROUNDS, self.WORD_LENGTH * 4), dtype=np.uint8)\n",
    "        w[0] = self.key\n",
    "\n",
    "        n = len(self.key) // self.WORD_LENGTH\n",
    "        for i in range(n + 1, 4*self.ROUNDS):\n",
    "            if i % n == 0:\n",
    "                print(w[i])\n",
    "                w[i] = w[i-n] ^ self._sub(self._rot_left(w[i-1])) ^ self.R_CON[i//n]\n",
    "                print(w[i])\n",
    "            elif n > 6 and i % n == 4:\n",
    "                w[i] = w[i-n] ^ self._sub(w[i-1])\n",
    "            else:\n",
    "                w[i] = w[i-n] ^ w[i-1]\n",
    "\n",
    "        return w\n",
    "    \n",
    "    def _encrypt_block(self, plaintext, out):\n",
    "        self.state = np.array(plaintext, dtype=np.uint8).reshape((self.ROWS, self.COLS))\n",
    "\n",
    "        self._add_round_key(0)\n",
    "\n",
    "        for i in range(1, self.ROUNDS + 1):\n",
    "            self._sub_bytes()\n",
    "            self._shift_rows(False)\n",
    "            if (i < self.ROUNDS):\n",
    "                self._mix_cols()\n",
    "            self._add_round_key(i)\n",
    "            \n",
    "        out[:] = self.state.flat\n",
    "    \n",
    "    def _decrypt_block(self, ciphertext, out):\n",
    "        self.state = np.array(ciphertext, dtype=np.uint8).reshape((self.ROWS, self.COLS))\n",
    "\n",
    "        for i in range(self.ROUNDS, 0, -1):\n",
    "            self._add_round_key(i)\n",
    "            if (i < self.ROUNDS):\n",
    "                self._mix_cols()\n",
    "            self._shift_rows(False)\n",
    "            self._sub_bytes()\n",
    "\n",
    "        self._add_round_key(0)\n",
    "            \n",
    "        out[:] = self.state.flat\n",
    "              \n",
    "    def _block(self, arr, i):\n",
    "        return arr[i*self.BLOCK_LENGTH:(i+1)*self.BLOCK_LENGTH]\n",
    "              \n",
    "    def _pad(self, plaintext):\n",
    "        flat = np.array(plaintext, dtype=np.uint8)\n",
    "        blocks = int(np.ceil(len(flat) / self.BLOCK_LENGTH))\n",
    "        pad = blocks*self.BLOCK_LENGTH - len(flat)\n",
    "        if pad == 0:\n",
    "            pad = self.BLOCK_LENGTH\n",
    "        flat = np.pad(flat, (0, pad), \"constant\", constant_values=pad)        \n",
    "        return flat\n",
    "    \n",
    "    def _remove_pad(self, padded_plaintext):\n",
    "        blocks = len(padded_plaintext) // self.BLOCK_LENGTH\n",
    "        last_block = self._block(padded_plaintext, blocks - 1)\n",
    "        pad_index = self.BLOCK_LENGTH\n",
    "        pad = last_block[-1]\n",
    "        if pad > self.BLOCK_LENGTH:\n",
    "            return padded_plaintext\n",
    "        \n",
    "        found = True\n",
    "        for i in range(len(last_block) - pad, len(last_block)):\n",
    "            if last_block[i] != pad:\n",
    "                found = False\n",
    "                break\n",
    "            \n",
    "        if found:\n",
    "            return padded_plaintext[:-int(pad)]\n",
    "        else:\n",
    "            return padded_plaintext\n",
    "                \n",
    "              \n",
    "    def encrypt(self, plaintext):\n",
    "        plaintext = self._pad(plaintext) \n",
    "        blocks = len(plaintext) // self.BLOCK_LENGTH\n",
    "        ciphertext = np.zeros(blocks*self.BLOCK_LENGTH, dtype=np.uint8)\n",
    "        \n",
    "        self.s_box = self.S_BOX\n",
    "        for i in range(blocks):\n",
    "            self._encrypt_block(self._block(plaintext, i), self._block(ciphertext, i))\n",
    "            \n",
    "        return list(ciphertext)\n",
    "    \n",
    "    def decrypt(self, ciphertext):        \n",
    "        ciphertext = np.array(ciphertext, dtype=np.uint8)\n",
    "        blocks = len(ciphertext) // self.BLOCK_LENGTH\n",
    "        plaintext = np.zeros(blocks*self.BLOCK_LENGTH, dtype=np.uint8)\n",
    "        \n",
    "        self.s_box = self.S_BOX_REV\n",
    "        for i in range(blocks):\n",
    "            self._decrypt_block(self._block(ciphertext, i), self._block(plaintext, i))\n",
    "        \n",
    "        return list(self._remove_pad(plaintext))\n",
    "\n",
    "        \n",
    "\n",
    "key = [0xaa, 0xbb, 0xcc, 0xdd]\n",
    "plaintext = [0xbb, 0xaa, 0xbb, 0xbb]\n",
    "aes = AES(key)\n",
    "\n",
    "print(f\"Encrypting {plaintext}\")\n",
    "ciphertext = aes.encrypt(plaintext)\n",
    "print(f\"Encrypted: {ciphertext}\")\n",
    "\n",
    "print(f\"Decrypting {ciphertext}\")\n",
    "new_plaintext = aes.decrypt(ciphertext)\n",
    "print(f\"Decrypted: {new_plaintext}\")\n",
    "equal = \"Yes\" if new_plaintext == plaintext else \"No\"\n",
    "print(f\"Are new and old plaintexts equal? {equal}\")"
   ]
  },
  {
   "cell_type": "code",
   "execution_count": null,
   "metadata": {},
   "outputs": [],
   "source": []
  }
 ],
 "metadata": {
  "kernelspec": {
   "display_name": "Python 3.10.8 ('.venv': venv)",
   "language": "python",
   "name": "python3"
  },
  "language_info": {
   "codemirror_mode": {
    "name": "ipython",
    "version": 3
   },
   "file_extension": ".py",
   "mimetype": "text/x-python",
   "name": "python",
   "nbconvert_exporter": "python",
   "pygments_lexer": "ipython3",
   "version": "3.10.8"
  },
  "orig_nbformat": 4,
  "vscode": {
   "interpreter": {
    "hash": "322b78c08b21abc51d8ac01dc2d1bf0f0424b81eb8bdac0ee6b860c4f553f56f"
   }
  }
 },
 "nbformat": 4,
 "nbformat_minor": 2
}
