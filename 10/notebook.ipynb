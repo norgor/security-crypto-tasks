{
 "cells": [
  {
   "cell_type": "markdown",
   "metadata": {},
   "source": [
    "# Oppgave 1\n",
    "## 1."
   ]
  },
  {
   "cell_type": "code",
   "execution_count": 200,
   "metadata": {},
   "outputs": [
    {
     "name": "stdout",
     "output_type": "stream",
     "text": [
      "\n",
      "2^1=2 2^2=4 2^3=8 2^4=16 2^5=32 2^6=64 2^7=128 2^8=256 2^9=512 \n",
      "3^1=3 3^2=9 3^3=27 3^4=81 \n",
      "4^1=4 4^2=16 4^3=64 4^4=256 \n",
      "5^1=5 5^2=25 5^3=125 5^4=625 \n",
      "6^1=6 6^2=36 6^3=216 6^4=1296 6^5=7776 6^6=46656 6^7=279936 6^8=1679616 6^9=10077696 \n",
      "7^1=7 7^2=49 7^3=343 7^4=2401 7^5=16807 7^6=117649 7^7=823543 7^8=5764801 7^9=40353607 \n",
      "8^1=8 8^2=64 8^3=512 8^4=4096 8^5=32768 8^6=262144 8^7=2097152 8^8=16777216 8^9=134217728 \n",
      "9^1=9 9^2=81 9^3=729 9^4=6561 \n",
      "10^1=10 \n"
     ]
    }
   ],
   "source": [
    "for x in range(1, 10+1):\n",
    "    i = 1\n",
    "    while pow(x, i, 11) != 1:\n",
    "        print(f\"{x}^{i}={x**i}\", end=\" \")\n",
    "        i += 1\n",
    "    print(\"\")"
   ]
  },
  {
   "cell_type": "markdown",
   "metadata": {},
   "source": [
    "## 2."
   ]
  },
  {
   "cell_type": "code",
   "execution_count": 184,
   "metadata": {},
   "outputs": [
    {
     "name": "stdout",
     "output_type": "stream",
     "text": [
      "[10.0, 1.0, 2.0, 2.0, 2.0, 1.0, 1.0, 1.0, 2.0, 5.0]\n"
     ]
    }
   ],
   "source": [
    "import math\n",
    "\n",
    "def z_n_star(n):\n",
    "    for i in range(n):\n",
    "        if math.gcd(i, n) == 1:\n",
    "            yield i\n",
    "                \n",
    "def totient(n):\n",
    "    nums = 0\n",
    "    for i in range(n):\n",
    "        if math.gcd(i, n) == 1:\n",
    "            nums += 1\n",
    "    return nums\n",
    "\n",
    "def mult_order(a, n):\n",
    "    k = 1\n",
    "    while True:\n",
    "        if (a**k)%n == 1:\n",
    "            return k\n",
    "        k += 1\n",
    "\n",
    "\n",
    "print(list(totient(11) / mult_order(i, 11) for i in z_n_star(11)))\n",
    "        "
   ]
  },
  {
   "cell_type": "markdown",
   "metadata": {},
   "source": [
    "Som vi ser i kodecellen ovenfor, så deler alle ordnene i $\\mathbb{Z}_{11}^*$, alle tallene i $\\phi(11)$. Jeg vet ikke hvilket teorem som blir bekreftet.\n",
    "\n",
    "## 3."
   ]
  },
  {
   "cell_type": "code",
   "execution_count": 185,
   "metadata": {},
   "outputs": [
    {
     "name": "stdout",
     "output_type": "stream",
     "text": [
      "|  | 1 | 2 | 3 | 4 | 5 | 6 | 7 | 8 | 9 |10 |\n",
      "| 2| 0 | 1 | 8 | 2 | 4 | X | 7 | 3 | 6 | 5 |\n",
      "| 3| 0 | X | 1 | 4 | 3 | X | X | X | 2 | X |\n",
      "| 4| 0 | X | 4 | 1 | 2 | X | X | X | 3 | X |\n",
      "| 5| 0 | X | 2 | 3 | 1 | X | X | X | 4 | X |\n",
      "| 6| 0 | X | 2 | 8 | 6 | 1 | 3 | 7 | 4 | 5 |\n",
      "| 7| 0 | 3 | 4 | 6 | 2 | 7 | 1 | X | 8 | 5 |\n",
      "| 8| 0 | 7 | 6 | 4 | 8 | 3 | X | 1 | 2 | 5 |\n",
      "| 9| 0 | X | 3 | 2 | 4 | X | X | X | 1 | X |\n",
      "|10| 0 | X | X | X | X | X | X | X | X | 1 |\n"
     ]
    }
   ],
   "source": [
    "import math\n",
    "\n",
    "z_11_star = list(z_n_star(11))\n",
    "\n",
    "def disclog(a, b, m):\n",
    "    k = 0\n",
    "    v = 1\n",
    "    for _ in range(totient(m) - 1):\n",
    "        if v%m == a:\n",
    "            return k\n",
    "        v = (v * b) % m\n",
    "        k += 1\n",
    "        \n",
    "    return None\n",
    "    \n",
    "\n",
    "print(\"|  | 1 | 2 | 3 | 4 | 5 | 6 | 7 | 8 | 9 |10 |\")\n",
    "for y in range(2, 11):\n",
    "    print(f\"|{y:2d}\", end=\"|\")\n",
    "    for x in range(1, 11):\n",
    "        v = disclog(x, y, 11)\n",
    "        vs = f\"{v: 2d} \" if v is not None else \" X \"\n",
    "        print(vs, end=\"|\")\n",
    "    print()\n"
   ]
  },
  {
   "cell_type": "markdown",
   "metadata": {},
   "source": [
    "# Oppgave 2\n",
    "## 1."
   ]
  },
  {
   "cell_type": "code",
   "execution_count": 186,
   "metadata": {},
   "outputs": [
    {
     "data": {
      "text/plain": [
       "[3, 5, 6, 7, 10, 11, 12, 14]"
      ]
     },
     "execution_count": 186,
     "metadata": {},
     "output_type": "execute_result"
    }
   ],
   "source": [
    "def find_primitive_roots(m):\n",
    "    l = []\n",
    "    for i in range(0, m - 1):\n",
    "        nums = set()\n",
    "        for j in range(0, m):\n",
    "            nums.add((i**j) % m)\n",
    "        if len(nums) == m - 1:\n",
    "            l.append(i)\n",
    "    return l\n",
    "        \n",
    "        \n",
    "find_primitive_roots(17)"
   ]
  },
  {
   "cell_type": "markdown",
   "metadata": {},
   "source": [
    "# Oppgave 3"
   ]
  },
  {
   "cell_type": "code",
   "execution_count": 187,
   "metadata": {},
   "outputs": [],
   "source": [
    "eg_a = 5\n",
    "eg_p = 19\n",
    "eg_alpha = 13\n",
    "eg_beta = pow(eg_alpha, eg_a, eg_p)\n",
    "\n",
    "def eg_encrypt(k, x):\n",
    "    return (pow(eg_alpha, k, eg_p), (x*pow(eg_beta, k, eg_p)) % eg_p)\n",
    "\n",
    "def eg_decrypt(e):\n",
    "    return (e[1]*pow(e[0], -eg_a, eg_p)) % eg_p"
   ]
  },
  {
   "cell_type": "markdown",
   "metadata": {},
   "source": [
    "## a)"
   ]
  },
  {
   "cell_type": "code",
   "execution_count": 188,
   "metadata": {},
   "outputs": [
    {
     "name": "stdout",
     "output_type": "stream",
     "text": [
      "Offentlig nøkkel : (19, 5, 14)\n",
      "Privat nøkkel    : 5\n"
     ]
    }
   ],
   "source": [
    "print(f\"Offentlig nøkkel : {(eg_p, eg_a, eg_beta)}\")\n",
    "print(f\"Privat nøkkel    : {eg_a}\")"
   ]
  },
  {
   "cell_type": "markdown",
   "metadata": {},
   "source": [
    "## b)"
   ]
  },
  {
   "cell_type": "code",
   "execution_count": 189,
   "metadata": {},
   "outputs": [
    {
     "data": {
      "text/plain": [
       "(11, 2)"
      ]
     },
     "execution_count": 189,
     "metadata": {},
     "output_type": "execute_result"
    }
   ],
   "source": [
    "eg_encrypt(6, 3)"
   ]
  },
  {
   "cell_type": "markdown",
   "metadata": {},
   "source": [
    "## c)"
   ]
  },
  {
   "cell_type": "code",
   "execution_count": 190,
   "metadata": {},
   "outputs": [
    {
     "data": {
      "text/plain": [
       "18"
      ]
     },
     "execution_count": 190,
     "metadata": {},
     "output_type": "execute_result"
    }
   ],
   "source": [
    "eg_decrypt((12, 11))"
   ]
  },
  {
   "cell_type": "markdown",
   "metadata": {},
   "source": [
    "# Oppgave 4"
   ]
  },
  {
   "cell_type": "code",
   "execution_count": 191,
   "metadata": {},
   "outputs": [
    {
     "name": "stdout",
     "output_type": "stream",
     "text": [
      "None\n"
     ]
    }
   ],
   "source": [
    "from math import sqrt, ceil\n",
    "\n",
    "def shanks_algorithm(alpha, beta, p):\n",
    "    m = ceil(sqrt(p))\n",
    "    l = dict((pow(alpha, m*j), j) for j in range(m))\n",
    "    for i in range(m):\n",
    "        v = beta*pow(alpha, -i)\n",
    "        if v in l.keys():\n",
    "            return (m*l[v] + i) % p\n",
    "\n",
    "print(shanks_algorithm(6, 3, 41))"
   ]
  },
  {
   "cell_type": "markdown",
   "metadata": {},
   "source": [
    "# Oppgave 5"
   ]
  },
  {
   "cell_type": "code",
   "execution_count": 192,
   "metadata": {},
   "outputs": [],
   "source": [
    "rsa_n = 437\n",
    "rsa_b = 13\n",
    "rsa_p = 23\n",
    "rsa_q = 19\n",
    "rsa_a = 61\n",
    "\n",
    "def rsa_sign(x):\n",
    "    return (x, pow(x, rsa_a, rsa_n))\n",
    "\n",
    "def rsa_verify(s):\n",
    "    return s[0] % rsa_n == pow(s[1], rsa_b, rsa_n)\n",
    "\n",
    "def rsa_verify_str(s):\n",
    "    return \"Gyldig\" if rsa_verify(s) else \"Ugyldig\""
   ]
  },
  {
   "cell_type": "markdown",
   "metadata": {},
   "source": [
    "## 1."
   ]
  },
  {
   "cell_type": "code",
   "execution_count": 193,
   "metadata": {},
   "outputs": [
    {
     "name": "stdout",
     "output_type": "stream",
     "text": [
      "(78, 394) er Gyldig\n",
      "(123, 289) er Gyldig\n"
     ]
    }
   ],
   "source": [
    "print(f\"(78, 394) er {rsa_verify_str((78, 394))}\")\n",
    "print(f\"(123, 289) er {rsa_verify_str((123, 289))}\")"
   ]
  },
  {
   "cell_type": "markdown",
   "metadata": {},
   "source": [
    "Verifiseringsalgoritmen sier at signaturen stemmer. Meldingen kommer dermed sannsynligvis fra Bob."
   ]
  },
  {
   "cell_type": "markdown",
   "metadata": {},
   "source": [
    "## 2."
   ]
  },
  {
   "cell_type": "code",
   "execution_count": 194,
   "metadata": {},
   "outputs": [
    {
     "name": "stdout",
     "output_type": "stream",
     "text": [
      "(78², 394²) = (6084, 155236) er Gyldig\n"
     ]
    }
   ],
   "source": [
    "print(f\"(78², 394²) = (6084, 155236) er {rsa_verify_str((78**2, 394**2))}\")"
   ]
  },
  {
   "cell_type": "markdown",
   "metadata": {},
   "source": [
    "## 3."
   ]
  },
  {
   "cell_type": "code",
   "execution_count": 195,
   "metadata": {},
   "outputs": [
    {
     "name": "stdout",
     "output_type": "stream",
     "text": [
      "(38*97, 171*337) = (3686, 57627) er Gyldig\n"
     ]
    }
   ],
   "source": [
    "print(f\"(38*97, 171*337) = (3686, 57627) er {rsa_verify_str((38*97, 171*337))}\")"
   ]
  },
  {
   "cell_type": "markdown",
   "metadata": {},
   "source": [
    "## 4."
   ]
  },
  {
   "cell_type": "code",
   "execution_count": 196,
   "metadata": {},
   "outputs": [
    {
     "name": "stdout",
     "output_type": "stream",
     "text": [
      "Signert og kryptert      : (401, 346)\n",
      "Verifisert og dekryptert : 109\n"
     ]
    }
   ],
   "source": [
    "rsa_alice_n = 731\n",
    "rsa_alice_a = 19\n",
    "rsa_alice_b = 283\n",
    "\n",
    "def rsa_alice_sign(x):\n",
    "    return (x, pow(x, rsa_alice_a, rsa_alice_n))\n",
    "\n",
    "def rsa_alice_verify(s):\n",
    "    return s[0] % rsa_alice_n == pow(s[1], rsa_alice_b, rsa_alice_n)\n",
    "\n",
    "def rsa_encrypt(x):\n",
    "    return pow(x, rsa_b, rsa_n)\n",
    "\n",
    "def rsa_decrypt(y):\n",
    "    return pow(y, rsa_a, rsa_n)\n",
    "    \n",
    "def rsa_sign_and_encrypt(x):\n",
    "    return tuple(map(lambda x: rsa_encrypt(x), rsa_alice_sign(x)))\n",
    "\n",
    "def rsa_verify_and_decrypt(y):\n",
    "    s = tuple(map(lambda x: rsa_decrypt(x), y))\n",
    "    if not rsa_alice_verify(s):\n",
    "        return \"INVALID\"\n",
    "    return s[0]\n",
    "\n",
    "signed_and_encrypted = rsa_sign_and_encrypt(109)\n",
    "print(f\"Signert og kryptert      : {signed_and_encrypted}\")\n",
    "print(f\"Verifisert og dekryptert : {rsa_verify_and_decrypt(signed_and_encrypted)}\")"
   ]
  }
 ],
 "metadata": {
  "kernelspec": {
   "display_name": "Python 3.10.8 ('.venv': venv)",
   "language": "python",
   "name": "python3"
  },
  "language_info": {
   "codemirror_mode": {
    "name": "ipython",
    "version": 3
   },
   "file_extension": ".py",
   "mimetype": "text/x-python",
   "name": "python",
   "nbconvert_exporter": "python",
   "pygments_lexer": "ipython3",
   "version": "3.10.8"
  },
  "orig_nbformat": 4,
  "vscode": {
   "interpreter": {
    "hash": "322b78c08b21abc51d8ac01dc2d1bf0f0424b81eb8bdac0ee6b860c4f553f56f"
   }
  }
 },
 "nbformat": 4,
 "nbformat_minor": 2
}
